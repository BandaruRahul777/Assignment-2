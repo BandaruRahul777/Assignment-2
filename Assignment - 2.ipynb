{
 "cells": [
  {
   "cell_type": "code",
   "execution_count": null,
   "id": "8e2fd45a",
   "metadata": {},
   "outputs": [],
   "source": [
    "1 Question"
   ]
  },
  {
   "cell_type": "code",
   "execution_count": null,
   "id": "dce1baa0",
   "metadata": {},
   "outputs": [],
   "source": [
    "The Boolean data type represents a logical value that can have one of two possible states which are true or false.\n",
    "\n",
    "\"true\" and \"false.\""
   ]
  },
  {
   "cell_type": "code",
   "execution_count": null,
   "id": "9ad994ef",
   "metadata": {},
   "outputs": [],
   "source": [
    "2 Question"
   ]
  },
  {
   "cell_type": "code",
   "execution_count": null,
   "id": "40f81821",
   "metadata": {},
   "outputs": [],
   "source": [
    "The three different types of Boolean operators are:-\n",
    "    \n",
    "AND operator - This operator returns true if both conditions are true; otherwise, it returns false.\n",
    "It is typically represented using the symbol \"&&\" or the word \"AND.\"\n",
    "\n",
    "OR operator - The OR operator returns true if at least one of the conditions is true; otherwise, it returns false.\n",
    "It requires only one condition to be true for the overall expression to be true.\n",
    "\n",
    "NOT operator - The NOT operator, also known as the negation operator, reverses the logical state of its condition.\n",
    "If the condition is true, the NOT operator returns false, and if the condition is false, the NOT operator returns true."
   ]
  },
  {
   "cell_type": "code",
   "execution_count": null,
   "id": "34396e7d",
   "metadata": {},
   "outputs": [],
   "source": [
    "3 Question"
   ]
  },
  {
   "cell_type": "code",
   "execution_count": null,
   "id": "995fb2e6",
   "metadata": {},
   "outputs": [],
   "source": [
    "AND Operator :-\n",
    "    \n",
    "Condition 1\tCondition 2\tResult\n",
    "    false\tfalse\tfalse\n",
    "    false\ttrue\tfalse\n",
    "    true\tfalse\tfalse\n",
    "    true\ttrue\ttrue\n",
    "    \n",
    "OR Operator :-\n",
    "    \n",
    "Condition 1\tCondition 2\tResult\n",
    "    false\tfalse\tfalse\n",
    "    false\ttrue\ttrue\n",
    "    true\tfalse\ttrue\n",
    "    true\ttrue\ttrue\n",
    "    \n",
    "NOT Operator :-\n",
    "    \n",
    "Condition\tResult\n",
    "   false\ttrue\n",
    "    true\tfalse"
   ]
  },
  {
   "cell_type": "code",
   "execution_count": null,
   "id": "0543bdf1",
   "metadata": {},
   "outputs": [],
   "source": [
    "4 Question"
   ]
  },
  {
   "cell_type": "code",
   "execution_count": null,
   "id": "9a8da11b",
   "metadata": {},
   "outputs": [],
   "source": []
  },
  {
   "cell_type": "code",
   "execution_count": null,
   "id": "19b5648a",
   "metadata": {},
   "outputs": [],
   "source": [
    "5 Question"
   ]
  },
  {
   "cell_type": "code",
   "execution_count": null,
   "id": "0e0c8284",
   "metadata": {},
   "outputs": [],
   "source": [
    "The six comparison operators are as follows:-\n",
    "\n",
    "1)Equal to(==)- It checks if two values are equal and returns true if they are, and false otherwise.\n",
    "    \n",
    "2)Not equal to(!=)- It checks if two values are not equal and returns true if they are not equal, and false if they are equal.\n",
    "\n",
    "3)Greater than(>)- It checks if the left condition is greater than the right condition and returns true if it is,\n",
    "and false otherwise.\n",
    "\n",
    "4)Less than(<)- It checks if the left condition is less than the right condition and returns true if it is, and false otherwise.\n",
    "\n",
    "5)Greater than or equal to(>=)- It checks if the left condition is greater than or equal to the right condition and\n",
    "returns true if it is,and false otherwise.\n",
    "\n",
    "6)Less than or equal to(<=)- It checks if the left condition is less than or equal to the right condition and\n",
    "returns true if it is,and false otherwise."
   ]
  },
  {
   "cell_type": "code",
   "execution_count": null,
   "id": "6d204ab7",
   "metadata": {},
   "outputs": [],
   "source": [
    "6 Question"
   ]
  },
  {
   "cell_type": "code",
   "execution_count": 6,
   "id": "b8ac5187",
   "metadata": {
    "scrolled": true
   },
   "outputs": [
    {
     "ename": "SyntaxError",
     "evalue": "invalid syntax (Temp/ipykernel_2104/2260991664.py, line 1)",
     "output_type": "error",
     "traceback": [
      "\u001b[1;36m  File \u001b[1;32m\"C:\\Users\\banda\\AppData\\Local\\Temp/ipykernel_2104/2260991664.py\"\u001b[1;36m, line \u001b[1;32m1\u001b[0m\n\u001b[1;33m    The difference between the equal to operator and the assignment operator is crucial because the serve distinct purposes.\u001b[0m\n\u001b[1;37m        ^\u001b[0m\n\u001b[1;31mSyntaxError\u001b[0m\u001b[1;31m:\u001b[0m invalid syntax\n"
     ]
    }
   ],
   "source": [
    "The difference between the equal to operator and the assignment operator is crucial because the serve distinct purposes.\n",
    "\n",
    "1 - Equal To Operator(==) - The double equal to (==) operator is used to compare the equality of two values.\n",
    "It checks if the values on both sides are equal and returns a Boolean value of true or false accordingly."
   ]
  },
  {
   "cell_type": "code",
   "execution_count": 10,
   "id": "947224c0",
   "metadata": {},
   "outputs": [
    {
     "ename": "SyntaxError",
     "evalue": "invalid syntax (Temp/ipykernel_2104/745882872.py, line 1)",
     "output_type": "error",
     "traceback": [
      "\u001b[1;36m  File \u001b[1;32m\"C:\\Users\\banda\\AppData\\Local\\Temp/ipykernel_2104/745882872.py\"\u001b[1;36m, line \u001b[1;32m1\u001b[0m\n\u001b[1;33m    int x = 5 ;\u001b[0m\n\u001b[1;37m        ^\u001b[0m\n\u001b[1;31mSyntaxError\u001b[0m\u001b[1;31m:\u001b[0m invalid syntax\n"
     ]
    }
   ],
   "source": [
    "int x = 5 ;\n",
    "int y = 10 ;\n",
    "if (x == y) {\n",
    "    // This condition will not be met because 5 is not equal to 10\n",
    "    // Code inside this block will not be executed\n",
    "}"
   ]
  },
  {
   "cell_type": "code",
   "execution_count": 4,
   "id": "2ba0e50e",
   "metadata": {},
   "outputs": [
    {
     "ename": "SyntaxError",
     "evalue": "invalid syntax (Temp/ipykernel_2104/2406221781.py, line 1)",
     "output_type": "error",
     "traceback": [
      "\u001b[1;36m  File \u001b[1;32m\"C:\\Users\\banda\\AppData\\Local\\Temp/ipykernel_2104/2406221781.py\"\u001b[1;36m, line \u001b[1;32m1\u001b[0m\n\u001b[1;33m    2 - Assignment Operator (=) - The single equal to (=) operator is used for variable assignment.\u001b[0m\n\u001b[1;37m                   ^\u001b[0m\n\u001b[1;31mSyntaxError\u001b[0m\u001b[1;31m:\u001b[0m invalid syntax\n"
     ]
    }
   ],
   "source": [
    "2 - Assignment Operator (=) - The single equal to (=) operator is used for variable assignment.\n",
    "It assigns a value on the right side to the variable on the left side."
   ]
  },
  {
   "cell_type": "code",
   "execution_count": 14,
   "id": "98de5281",
   "metadata": {},
   "outputs": [
    {
     "ename": "SyntaxError",
     "evalue": "invalid syntax (Temp/ipykernel_2104/3865242204.py, line 1)",
     "output_type": "error",
     "traceback": [
      "\u001b[1;36m  File \u001b[1;32m\"C:\\Users\\banda\\AppData\\Local\\Temp/ipykernel_2104/3865242204.py\"\u001b[1;36m, line \u001b[1;32m1\u001b[0m\n\u001b[1;33m    int x ;\u001b[0m\n\u001b[1;37m        ^\u001b[0m\n\u001b[1;31mSyntaxError\u001b[0m\u001b[1;31m:\u001b[0m invalid syntax\n"
     ]
    }
   ],
   "source": [
    "int x ;"
   ]
  },
  {
   "cell_type": "code",
   "execution_count": null,
   "id": "cc347189",
   "metadata": {},
   "outputs": [],
   "source": [
    "7 Question"
   ]
  },
  {
   "cell_type": "code",
   "execution_count": 15,
   "id": "c6eabdcb",
   "metadata": {},
   "outputs": [],
   "source": [
    "spam = 0\n",
    "if spam == 10:\n",
    "    print('eggs')"
   ]
  },
  {
   "cell_type": "code",
   "execution_count": 16,
   "id": "b7b23492",
   "metadata": {},
   "outputs": [
    {
     "name": "stdout",
     "output_type": "stream",
     "text": [
      "ham\n"
     ]
    }
   ],
   "source": [
    "if spam > 5:\n",
    "    print('bacon')\n",
    "else:\n",
    "    print('ham')"
   ]
  },
  {
   "cell_type": "code",
   "execution_count": 17,
   "id": "9b6a0992",
   "metadata": {},
   "outputs": [
    {
     "name": "stdout",
     "output_type": "stream",
     "text": [
      "spam\n",
      "spam\n"
     ]
    }
   ],
   "source": [
    "print('spam')\n",
    "print('spam')"
   ]
  },
  {
   "cell_type": "code",
   "execution_count": null,
   "id": "597746ad",
   "metadata": {},
   "outputs": [],
   "source": [
    "8 Question"
   ]
  },
  {
   "cell_type": "code",
   "execution_count": 18,
   "id": "ebf7b5d6",
   "metadata": {},
   "outputs": [
    {
     "name": "stdout",
     "output_type": "stream",
     "text": [
      "Hello\n"
     ]
    }
   ],
   "source": [
    "spam = 1  # You can change the value of spam to test different scenarios\n",
    "\n",
    "if spam == 1:\n",
    "    print('Hello')\n",
    "elif spam == 2:\n",
    "    print('Howdy')\n",
    "else:\n",
    "    print('Greetings!')"
   ]
  },
  {
   "cell_type": "code",
   "execution_count": null,
   "id": "a0ee146a",
   "metadata": {},
   "outputs": [],
   "source": [
    "9 Question"
   ]
  },
  {
   "cell_type": "code",
   "execution_count": null,
   "id": "55014e83",
   "metadata": {},
   "outputs": [],
   "source": [
    "In Python, if your program is stuck in an endless loop and you want to interrupt its execution,\n",
    "you can use the following key combination :-\n",
    "    \n",
    "Press Ctrl + C on your keyboard.\n",
    "\n",
    "This key combination is used across all different operating systems and most Python development environments.\n",
    "Pressing Ctrl + C sends a KeyboardInterrupt signal to the Python interpreter,\n",
    "causing it to break out of the loop and terminate the program's execution."
   ]
  },
  {
   "cell_type": "code",
   "execution_count": null,
   "id": "34fa0784",
   "metadata": {},
   "outputs": [],
   "source": [
    "10 Question"
   ]
  },
  {
   "cell_type": "code",
   "execution_count": null,
   "id": "e182d7c5",
   "metadata": {},
   "outputs": [],
   "source": [
    "Both 'break' and 'continue' are flow control statements used in loops for different purposes,\n",
    "\n",
    "Those different purposes are :-\n",
    "\n",
    "break statement - The break statement is used to terminate the execution of the innermost loop\n",
    "(i.e., the loop in which it is encountered) and resume execution at the next statement after the loop.\n",
    "When the break statement is encountered, the loop is immediately exited,\n",
    "and the program continues with the next line of code after the loop.\n",
    "\n",
    "continue statement - The continue statement is used to skip the rest of the current iteration of a loop and\n",
    "move on to the next iteration.\n",
    "When the continue statement is encountered, the remaining statements in the loop body for the current iteration are skipped,\n",
    "and the loop immediately proceeds with the next iteration."
   ]
  },
  {
   "cell_type": "code",
   "execution_count": null,
   "id": "a817989e",
   "metadata": {},
   "outputs": [],
   "source": [
    "11 Question"
   ]
  },
  {
   "cell_type": "code",
   "execution_count": null,
   "id": "8fd6e99a",
   "metadata": {},
   "outputs": [],
   "source": [
    "In a for loop, 'range(10)', 'range(0, 10)', and 'range(0, 10, 1)' all generate a sequence of numbers,\n",
    "but they have slightly different syntax."
   ]
  },
  {
   "cell_type": "code",
   "execution_count": 19,
   "id": "c28ce071",
   "metadata": {},
   "outputs": [
    {
     "name": "stdout",
     "output_type": "stream",
     "text": [
      "0\n",
      "1\n",
      "2\n",
      "3\n",
      "4\n",
      "5\n",
      "6\n",
      "7\n",
      "8\n",
      "9\n"
     ]
    }
   ],
   "source": [
    "for i in range(10):\n",
    "    print(i)"
   ]
  },
  {
   "cell_type": "code",
   "execution_count": 20,
   "id": "c9d7642c",
   "metadata": {},
   "outputs": [
    {
     "name": "stdout",
     "output_type": "stream",
     "text": [
      "0\n",
      "1\n",
      "2\n",
      "3\n",
      "4\n",
      "5\n",
      "6\n",
      "7\n",
      "8\n",
      "9\n"
     ]
    }
   ],
   "source": [
    "for i in range(0, 10):\n",
    "    print(i)"
   ]
  },
  {
   "cell_type": "code",
   "execution_count": 21,
   "id": "30a9ca47",
   "metadata": {},
   "outputs": [
    {
     "name": "stdout",
     "output_type": "stream",
     "text": [
      "0\n",
      "1\n",
      "2\n",
      "3\n",
      "4\n",
      "5\n",
      "6\n",
      "7\n",
      "8\n",
      "9\n"
     ]
    }
   ],
   "source": [
    "for i in range(0, 10, 1):\n",
    "    print(i)"
   ]
  },
  {
   "cell_type": "code",
   "execution_count": null,
   "id": "9efc1b49",
   "metadata": {},
   "outputs": [],
   "source": [
    "12 Question"
   ]
  },
  {
   "cell_type": "code",
   "execution_count": null,
   "id": "b5ae12f9",
   "metadata": {},
   "outputs": [],
   "source": [
    "Here's a short program that prints the numbers 1 to 10 using a for loop :-"
   ]
  },
  {
   "cell_type": "code",
   "execution_count": 22,
   "id": "8894b3de",
   "metadata": {},
   "outputs": [
    {
     "name": "stdout",
     "output_type": "stream",
     "text": [
      "1\n",
      "2\n",
      "3\n",
      "4\n",
      "5\n",
      "6\n",
      "7\n",
      "8\n",
      "9\n",
      "10\n"
     ]
    }
   ],
   "source": [
    "# Using a for loop\n",
    "for i in range(1, 11):\n",
    "    print(i)"
   ]
  },
  {
   "cell_type": "code",
   "execution_count": 23,
   "id": "5b623e7f",
   "metadata": {},
   "outputs": [
    {
     "name": "stdout",
     "output_type": "stream",
     "text": [
      "1\n",
      "2\n",
      "3\n",
      "4\n",
      "5\n",
      "6\n",
      "7\n",
      "8\n",
      "9\n",
      "10\n"
     ]
    }
   ],
   "source": [
    "# Using a while loop\n",
    "i = 1\n",
    "while i <= 10:\n",
    "    print(i)\n",
    "    i += 1"
   ]
  },
  {
   "cell_type": "code",
   "execution_count": null,
   "id": "7b4c3add",
   "metadata": {},
   "outputs": [],
   "source": [
    "13 Question"
   ]
  },
  {
   "cell_type": "code",
   "execution_count": 28,
   "id": "9b57f5ad",
   "metadata": {},
   "outputs": [
    {
     "ename": "ModuleNotFoundError",
     "evalue": "No module named 'spam'",
     "output_type": "error",
     "traceback": [
      "\u001b[1;31m---------------------------------------------------------------------------\u001b[0m",
      "\u001b[1;31mModuleNotFoundError\u001b[0m                       Traceback (most recent call last)",
      "\u001b[1;32m~\\AppData\\Local\\Temp/ipykernel_2104/3086571347.py\u001b[0m in \u001b[0;36m<module>\u001b[1;34m\u001b[0m\n\u001b[1;32m----> 1\u001b[1;33m \u001b[1;32mimport\u001b[0m \u001b[0mspam\u001b[0m\u001b[1;33m\u001b[0m\u001b[1;33m\u001b[0m\u001b[0m\n\u001b[0m\u001b[0;32m      2\u001b[0m \u001b[1;33m\u001b[0m\u001b[0m\n\u001b[0;32m      3\u001b[0m \u001b[0mspam\u001b[0m\u001b[1;33m.\u001b[0m\u001b[0mbacon\u001b[0m\u001b[1;33m(\u001b[0m\u001b[1;33m)\u001b[0m\u001b[1;33m\u001b[0m\u001b[1;33m\u001b[0m\u001b[0m\n",
      "\u001b[1;31mModuleNotFoundError\u001b[0m: No module named 'spam'"
     ]
    }
   ],
   "source": [
    "import spam\n",
    "\n",
    "spam.bacon()"
   ]
  },
  {
   "cell_type": "code",
   "execution_count": null,
   "id": "d9c2591a",
   "metadata": {},
   "outputs": [],
   "source": []
  }
 ],
 "metadata": {
  "kernelspec": {
   "display_name": "Python 3 (ipykernel)",
   "language": "python",
   "name": "python3"
  },
  "language_info": {
   "codemirror_mode": {
    "name": "ipython",
    "version": 3
   },
   "file_extension": ".py",
   "mimetype": "text/x-python",
   "name": "python",
   "nbconvert_exporter": "python",
   "pygments_lexer": "ipython3",
   "version": "3.9.7"
  }
 },
 "nbformat": 4,
 "nbformat_minor": 5
}
